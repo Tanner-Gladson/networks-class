{
 "cells": [
  {
   "cell_type": "code",
   "execution_count": 2,
   "metadata": {},
   "outputs": [],
   "source": [
    "import pandas as pd\n",
    "import matplotlib.pyplot as plt"
   ]
  },
  {
   "cell_type": "code",
   "execution_count": 131,
   "metadata": {},
   "outputs": [],
   "source": [
    "\n",
    "netflow_df = pd.read_csv('netflow.csv')\n"
   ]
  },
  {
   "cell_type": "code",
   "execution_count": 132,
   "metadata": {},
   "outputs": [
    {
     "data": {
      "image/png": "[encoded data removed]",
      "text/plain": [
       "<Figure size 432x288 with 1 Axes>"
      ]
     },
     "metadata": {
      "needs_background": "light"
     },
     "output_type": "display_data"
    }
   ],
   "source": [
    "pdf = netflow_df.groupby(\"Protocol\")['Bytes'].value_counts()\n",
    "\n",
    "udp_cdf = pdf[\"UDP\"].sort_index().cumsum() / pdf[\"UDP\"].sort_index().sum()\n",
    "tcp_cdf = pdf[\"TCP\"].sort_index().cumsum() / pdf[\"TCP\"].sort_index().sum()\n",
    "\n",
    "plt.plot(tcp_cdf.index, tcp_cdf.values)\n",
    "plt.plot(udp_cdf.index, udp_cdf.values)\n",
    "plt.xlabel('Bytes')\n",
    "plt.ylabel('CDF')\n",
    "plt.title('CDF of Records based on Bytes')\n",
    "plt.legend([\"UDP\", \"TCP\"])\n",
    "plt.xscale('log')  # Set x-axis to log scale\n",
    "plt.show()\n"
   ]
  },
  {
   "cell_type": "markdown",
   "metadata": {},
   "source": [
    "# 1.1\n",
    "My first observation is that nearly all packets are less than 1,000 bytes long. The second observation is that UDP packets tend to be smaller, and have no outliers larger than 1,000 bytes."
   ]
  },
  {
   "cell_type": "code",
   "execution_count": 179,
   "metadata": {},
   "outputs": [
    {
     "name": "stdout",
     "output_type": "stream",
     "text": [
      "Top 10 src prefixes:\n",
      " src_ip_prefix\n",
      "184.105     1775\n",
      "64.125      1852\n",
      "212.83      2042\n",
      "141.212     2143\n",
      "94.23       2205\n",
      "169.45      2494\n",
      "163.53      2981\n",
      "222.186     5269\n",
      "169.54      9424\n",
      "116.211    17019\n",
      "Name: Src IP addr, dtype: int64\n",
      "Top 10 src account for 44.80%\n"
     ]
    }
   ],
   "source": [
    "# Extract the first two octets of the source IP address\n",
    "split_src_ids = netflow_df[\"Src IP addr\"].apply(lambda x: x.split('.'))\n",
    "netflow_df[\"src_ip_prefix\"] = split_src_ids.apply(lambda x: '.'.join(x[0:2]))\n",
    "\n",
    "# Group by the source IP prefix and count the number of flows\n",
    "flows_per_src_prefix = netflow_df.groupby('src_ip_prefix')['Src IP addr'].count()\n",
    "top_ten_src_flows = flows_per_src_prefix.sort_values()[-10:]\n",
    "print(f\"Top 10 src prefixes:\\n\", top_ten_src_flows)\n",
    "\n",
    "# Get the top ten IP address prefixes and their percentage of all flows\n",
    "percentage_src_flows = (top_ten_src_flows.sum() / flows_per_src_prefix.sum()) * 100\n",
    "print(f\"Top 10 src account for {percentage_src_flows:.2f}%\")\n",
    "\n",
    "\n",
    "# Group by percentage of bytes sent\n",
    "# TODO: Need to group by bytes"
   ]
  },
  {
   "cell_type": "markdown",
   "metadata": {},
   "source": [
    "The top 10 src prefixes (as counted by flow) are reported above"
   ]
  }
 ],
 "metadata": {
  "kernelspec": {
   "display_name": "Python 3",
   "language": "python",
   "name": "python3"
  },
  "language_info": {
   "codemirror_mode": {
    "name": "ipython",
    "version": 3
   },
   "file_extension": ".py",
   "mimetype": "text/x-python",
   "name": "python",
   "nbconvert_exporter": "python",
   "pygments_lexer": "ipython3",
   "version": "3.11.5"
  }
 },
 "nbformat": 4,
 "nbformat_minor": 2
}
