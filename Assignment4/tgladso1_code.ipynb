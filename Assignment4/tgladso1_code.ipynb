{
 "cells": [
  {
   "cell_type": "markdown",
   "metadata": {},
   "source": [
    "# Readme\n",
    "The code is a Jupyter Notebook with Python3 code. To run the code, you will need the Collections, pandas, and matplotlib libraries. Analysis is done using pandas' Series and Dataframes, while plotting it done with matplotlib.\n",
    "\n",
    "There are no special instructions for running the code. It's a standard Jupyter notebook."
   ]
  },
  {
   "cell_type": "code",
   "execution_count": 12,
   "metadata": {},
   "outputs": [],
   "source": [
    "import pandas as pd\n",
    "import matplotlib.pyplot as plt\n",
    "from collections import Counter"
   ]
  },
  {
   "cell_type": "code",
   "execution_count": 13,
   "metadata": {},
   "outputs": [],
   "source": [
    "\n",
    "netflow_df = pd.read_csv('netflow.csv')\n",
    "split_src_ids = netflow_df[\"Src IP addr\"].apply(lambda x: x.split('.'))\n",
    "split_dst_ids = netflow_df[\"Dst IP addr\"].apply(lambda x: x.split('.'))\n",
    "netflow_df[\"src_ip_prefix\"] = split_src_ids.apply(lambda x: '.'.join(x[0:2]))\n",
    "netflow_df[\"dst_ip_prefix\"] = split_dst_ids.apply(lambda x: '.'.join(x[0:2]))"
   ]
  },
  {
   "cell_type": "markdown",
   "metadata": {},
   "source": [
    "# 1.1\n",
    "My first observation is that nearly all packets are less than 1,000 bytes long. The second observation is that UDP packets tend to be smaller, and have almost no outliers larger than 1,000 bytes. More than half of the packets in each protocol have sizes of less than 100."
   ]
  },
  {
   "cell_type": "code",
   "execution_count": 32,
   "metadata": {},
   "outputs": [
    {
     "data": {
      "image/png": "[encoded data removed]",
      "text/plain": [
       "<Figure size 432x288 with 1 Axes>"
      ]
     },
     "metadata": {
      "needs_background": "light"
     },
     "output_type": "display_data"
    }
   ],
   "source": [
    "pdf = netflow_df.groupby(\"Protocol\")['Bytes'].value_counts()\n",
    "\n",
    "udp_cdf = pdf[\"UDP\"].sort_index().cumsum() / pdf[\"UDP\"].sort_index().sum()\n",
    "tcp_cdf = pdf[\"TCP\"].sort_index().cumsum() / pdf[\"TCP\"].sort_index().sum()\n",
    "\n",
    "plt.plot(tcp_cdf.index, tcp_cdf.values)\n",
    "plt.xlabel('Bytes')\n",
    "plt.ylabel('Percent of that size or smaller')\n",
    "plt.title('CDF of each flow as a function of packet size')\n",
    "plt.legend([\"TCP\"])\n",
    "plt.xscale('log')  # Set x-axis to log scale\n",
    "plt.show()"
   ]
  },
  {
   "cell_type": "code",
   "execution_count": 33,
   "metadata": {},
   "outputs": [
    {
     "data": {
      "image/png": "[encoded data removed]",
      "text/plain": [
       "<Figure size 432x288 with 1 Axes>"
      ]
     },
     "metadata": {
      "needs_background": "light"
     },
     "output_type": "display_data"
    }
   ],
   "source": [
    "udp_cdf = pdf[\"UDP\"].sort_index().cumsum() / pdf[\"UDP\"].sort_index().sum()\n",
    "\n",
    "plt.plot(udp_cdf.index, udp_cdf.values)\n",
    "plt.xlabel('Bytes')\n",
    "plt.ylabel('Percent of that size or smaller')\n",
    "plt.title('CDF of each flow as a function of packet size')\n",
    "plt.legend([\"UDP\"])\n",
    "plt.xscale('log')  # Set x-axis to log scale\n",
    "plt.show()"
   ]
  },
  {
   "cell_type": "markdown",
   "metadata": {},
   "source": [
    "# 1.2 \n",
    "The top 10 src prefixes (as counted by flow) are reported below. They account for 44.8% of all flows. The top 10 src prefixes (as counted by total bytes) are reborted above. These 10 flows account for 37.41% of total byte traffic.\n",
    "\n",
    "```\n",
    "Top 10 src prefixes:\n",
    " src_ip_prefix\n",
    "184.105     1775\n",
    "64.125      1852\n",
    "212.83      2042\n",
    "141.212     2143\n",
    "94.23       2205\n",
    "169.45      2494\n",
    "163.53      2981\n",
    "222.186     5269\n",
    "169.54      9424\n",
    "116.211    17019\n",
    "Name: src_ip_prefix, dtype: int64\n",
    "Top 10 src account for 44.80%\n",
    "\n",
    "Top 10 src prefixes:\n",
    " src_ip_prefix\n",
    "163.53     120920\n",
    "5.8        126940\n",
    "222.186    211068\n",
    "169.45     229448\n",
    "42.120     326122\n",
    "128.112    506604\n",
    "140.205    510833\n",
    "116.211    680922\n",
    "169.54     867928\n",
    "212.83     928311\n",
    "Name: Bytes, dtype: int64\n",
    "Top 10 src account for 37.41%\n",
    "```"
   ]
  },
  {
   "cell_type": "code",
   "execution_count": 16,
   "metadata": {},
   "outputs": [
    {
     "name": "stdout",
     "output_type": "stream",
     "text": [
      "Top 10 src prefixes:\n",
      " src_ip_prefix\n",
      "184.105     1775\n",
      "64.125      1852\n",
      "212.83      2042\n",
      "141.212     2143\n",
      "94.23       2205\n",
      "169.45      2494\n",
      "163.53      2981\n",
      "222.186     5269\n",
      "169.54      9424\n",
      "116.211    17019\n",
      "Name: src_ip_prefix, dtype: int64\n",
      "Top 10 src account for 44.80%\n",
      "\n",
      "Top 10 src prefixes:\n",
      " src_ip_prefix\n",
      "163.53     120920\n",
      "5.8        126940\n",
      "222.186    211068\n",
      "169.45     229448\n",
      "42.120     326122\n",
      "128.112    506604\n",
      "140.205    510833\n",
      "116.211    680922\n",
      "169.54     867928\n",
      "212.83     928311\n",
      "Name: Bytes, dtype: int64\n",
      "Top 10 src account for 37.41%\n"
     ]
    }
   ],
   "source": [
    "# Extract the first two octets of the source IP address\n",
    "grouped_flows = netflow_df.groupby('src_ip_prefix')\n",
    "\n",
    "# Group by the source IP prefix and count the number of flows\n",
    "flows_per_src_prefix = grouped_flows['src_ip_prefix'].count()\n",
    "most_common_ten_prefixes = flows_per_src_prefix.sort_values()[-10:]\n",
    "print(f\"Top 10 src prefixes:\\n\", most_common_ten_prefixes)\n",
    "\n",
    "# Get the top ten IP address prefixes and their percentage of all flows\n",
    "percentage_src_flows = (most_common_ten_prefixes.sum() / flows_per_src_prefix.sum()) * 100\n",
    "print(f\"Top 10 src account for {percentage_src_flows:.2f}%\")\n",
    "\n",
    "\n",
    "# Group by percentage of bytes sent\n",
    "bytes_per_prefix = grouped_flows['Bytes'].sum()\n",
    "biggest_ten_prefixes = bytes_per_prefix.sort_values()[-10:]\n",
    "print(f\"\\nTop 10 src prefixes:\\n\", biggest_ten_prefixes)\n",
    "\n",
    "percentage_of_traffic = (biggest_ten_prefixes.sum() / bytes_per_prefix.sum()) * 100\n",
    "print(f\"Top 10 src account for {percentage_of_traffic:.2f}%\")"
   ]
  },
  {
   "cell_type": "markdown",
   "metadata": {},
   "source": [
    "# 1.3\n",
    "I chose port 23, which is used for Telnet. It appears as src_port in 0.15% of flows, but dst_port=23 for 18.4% of flows."
   ]
  },
  {
   "cell_type": "code",
   "execution_count": 17,
   "metadata": {},
   "outputs": [
    {
     "name": "stdout",
     "output_type": "stream",
     "text": [
      "Packets with src_port=23 account for 0.15% of flows\n",
      "Packets with dst_port=23 account for 18.40% of flows\n"
     ]
    }
   ],
   "source": [
    "# Analyze port number 0\n",
    "\n",
    "count_by_src_port = netflow_df.groupby(\"Src port\")[\"Src port\"].count()\n",
    "count_by_dest_port = netflow_df.groupby(\"Dst port\")[\"Dst port\"].count()\n",
    "\n",
    "percent_with_src_23 = 100 * count_by_src_port[23] / count_by_src_port.sum()\n",
    "percent_with_dest_23 = 100 * count_by_dest_port[23] / count_by_dest_port.sum()\n",
    "\n",
    "\n",
    "print(f\"Packets with src_port=23 account for {percent_with_src_23:.2f}% of flows\")\n",
    "print(f\"Packets with dst_port=23 account for {percent_with_dest_23:.2f}% of flows\")"
   ]
  },
  {
   "cell_type": "markdown",
   "metadata": {},
   "source": [
    "# 1.4\n",
    "Packets with src_ip=128.112.0.0/16 account for 4.20% of bytes.\n",
    "Packets with dst_ip=128.112.0.0/16 account for 95.95% of bytes.\n",
    "Packets with both src and dest within router account for 0.84% of bytes.\n",
    "\n",
    "Very little of the traffic is between hosts within the router's group. Traffic is largely in & out of the network. Interestingly, 95% of all bytes are headed into the router's network. More data coming in than leaving."
   ]
  },
  {
   "cell_type": "code",
   "execution_count": 18,
   "metadata": {},
   "outputs": [
    {
     "name": "stdout",
     "output_type": "stream",
     "text": [
      "Packets with src_ip=128.112.0.0/16 account for 4.20% of bytes\n",
      "Packets with dst_ip=128.112.0.0/16 account for 95.95% of bytes\n",
      "Packets with both src and dest within router account for 0.84% of bytes\n"
     ]
    }
   ],
   "source": [
    "bytes_by_src = netflow_df.groupby('src_ip_prefix')[\"Bytes\"].sum()\n",
    "bytes_by_dst = netflow_df.groupby('dst_ip_prefix')[\"Bytes\"].sum()\n",
    "\n",
    "percent_bytes_from_router = 100 * bytes_by_src[\"128.112\"] / bytes_by_src.sum()\n",
    "print(f\"Packets with src_ip=128.112.0.0/16 account for {percent_bytes_from_router:.2f}% of bytes\")\n",
    "\n",
    "percent_bytes_towards_router = 100 * bytes_by_dst[\"128.112\"] / bytes_by_dst.sum()\n",
    "print(f\"Packets with dst_ip=128.112.0.0/16 account for {percent_bytes_towards_router:.2f}% of bytes\")\n",
    "\n",
    "incoming = netflow_df[netflow_df['dst_ip_prefix'] == \"128.112\"]\n",
    "internal_flows = incoming[incoming['src_ip_prefix'] == \"128.112\"]\n",
    "\n",
    "percent_bytes_within_router = 100 * (internal_flows[\"Bytes\"].sum() / netflow_df[\"Bytes\"].sum())\n",
    "print(f\"Packets with both src and dest within router account for {percent_bytes_within_router:.2f}% of bytes\")"
   ]
  },
  {
   "cell_type": "markdown",
   "metadata": {},
   "source": [
    "# 1.5\n",
    "It does not change my answer to Q1.1. For Q1.2, I expect that the diversity of src IPs would increase. That is, the percentage of traffic accounted for by the top 10 src_ips would be less. For Q1.3, I would expect the telnet traffic in an internet Cafe to be smaller than a university. For Q1.4, I would expect the ratio of incoming/outgoing to be about the same, since most consumer bandwidth is spent downloading content."
   ]
  },
  {
   "cell_type": "code",
   "execution_count": 19,
   "metadata": {},
   "outputs": [],
   "source": [
    "routes_df = pd.read_csv('bgp_route.csv')\n",
    "udpates_df = pd.read_csv('bgp_update.csv')\n",
    "routes_df['ASPATH'] = routes_df['ASPATH'].str.split()"
   ]
  },
  {
   "cell_type": "markdown",
   "metadata": {},
   "source": [
    "# 2.1\n",
    "The top 10 ASs are reported below. So are the number of routes which they appear in. Country of origins are US, SE, MU, NO, EE, and CH. The majority are in the US. It may be innefficient to have packets travel into ASs located in the US when a packet from another continent has to make a round trip to the US and back.\n",
    "\n",
    "3356: LEVEL3, US  \n",
    "3257: GTT-BACKBONE GTT, US  \n",
    "1299: TWELVE99 Arelion, fka Telia Carrier, SE  \n",
    "6939: HURRICANE, US  \n",
    "2914: NTT-LTD-2914, US  \n",
    "174: COGENT-174, US  \n",
    "37100: SEACOM-AS, MU  \n",
    "49788: NEXTHOP, NO  \n",
    "3130: RGNET-SEA RGnet Seattle Westin, EE  \n",
    "3303: SWISSCOM Swisscom Switzerland Ltd, CH  \n",
    "\n",
    "```\n",
    "The top top ASs by word count are\n",
    " ['3356', '3257', '1299', '6939', '2914', '174', '37100', '49788', '3130', '3303']\n",
    "3356 appears in 19.63% of routes\n",
    "3257 appears in 15.46% of routes\n",
    "1299 appears in 13.32% of routes\n",
    "6939 appears in 11.60% of routes\n",
    "2914 appears in 11.16% of routes\n",
    "174 appears in 9.32% of routes\n",
    "37100 appears in 9.33% of routes\n",
    "49788 appears in 8.53% of routes\n",
    "3130 appears in 7.85% of routes\n",
    "3303 appears in 7.50% of routes\n",
    "```"
   ]
  },
  {
   "cell_type": "code",
   "execution_count": 20,
   "metadata": {},
   "outputs": [
    {
     "name": "stdout",
     "output_type": "stream",
     "text": [
      "The top top ASs by word count are\n",
      " ['3356', '3257', '1299', '6939', '2914', '174', '37100', '49788', '3130', '3303']\n",
      "3356 appears in 19.63% of routes\n",
      "3257 appears in 15.46% of routes\n",
      "1299 appears in 13.32% of routes\n",
      "6939 appears in 11.60% of routes\n",
      "2914 appears in 11.16% of routes\n",
      "174 appears in 9.32% of routes\n",
      "37100 appears in 9.33% of routes\n",
      "49788 appears in 8.53% of routes\n",
      "3130 appears in 7.85% of routes\n",
      "3303 appears in 7.50% of routes\n"
     ]
    }
   ],
   "source": [
    "# Gotta count em all\n",
    "word_counts = Counter(word for words_list in routes_df['ASPATH'] for word in words_list)\n",
    "\n",
    "word_counts_df = pd.DataFrame.from_dict(word_counts, orient='index')\n",
    "word_counts_df.columns = ['Count']\n",
    "word_counts_df = word_counts_df.sort_values('Count', ascending=False)\n",
    "top_ten = word_counts_df[:10].index.array.tolist()\n",
    "print(\"The top top ASs by word count are\\n\", top_ten)\n",
    "\n",
    "# Count occurences\n",
    "counts = []\n",
    "for asn in top_ten:\n",
    "  counts.append(0)\n",
    "  for route in routes_df[\"ASPATH\"]:\n",
    "    if asn in route:\n",
    "      counts[-1] += 1\n",
    "\n",
    "# Get percent\n",
    "percent_appears = []\n",
    "for i in range(0, len(top_ten)):\n",
    "  percent_appears.append(100 * counts[i] / len(routes_df[\"ASPATH\"]))\n",
    "\n",
    "for word, percent_appears in zip(top_ten, percent_appears):\n",
    "  print(f\"{word} appears in {percent_appears:.2f}% of routes\")"
   ]
  },
  {
   "cell_type": "markdown",
   "metadata": {},
   "source": [
    "# 2.2\n",
    "Plot of CDF is below. More than 95% of all ASPATHs had 6 or fewer unique ASs! This means that packets will travel through very few ASs during its journey across the internet."
   ]
  },
  {
   "cell_type": "code",
   "execution_count": 21,
   "metadata": {},
   "outputs": [
    {
     "data": {
      "image/png": "[encoded data removed]",
      "text/plain": [
       "<Figure size 432x288 with 1 Axes>"
      ]
     },
     "metadata": {
      "needs_background": "light"
     },
     "output_type": "display_data"
    }
   ],
   "source": [
    "routes_df['path_lengths'] = routes_df['ASPATH'].apply(set).apply(len)\n",
    "bins = routes_df.groupby('path_lengths')['path_lengths'].count().sort_index()\n",
    "cdf = bins.cumsum() / bins.sum()\n",
    "\n",
    "plt.plot(cdf)\n",
    "plt.xlabel('Number of unique ASs in path')\n",
    "plt.ylabel('Percent with atleast x ASs')\n",
    "plt.title('CDF of number of unique ASs in path')\n",
    "plt.show()"
   ]
  },
  {
   "cell_type": "markdown",
   "metadata": {},
   "source": [
    "# 2.3\n",
    "Plot is below. There are an average of 1124.64 updates per minute."
   ]
  },
  {
   "cell_type": "code",
   "execution_count": 26,
   "metadata": {},
   "outputs": [
    {
     "data": {
      "image/png": "[encoded data removed]",
      "text/plain": [
       "<Figure size 432x288 with 1 Axes>"
      ]
     },
     "metadata": {
      "needs_background": "light"
     },
     "output_type": "display_data"
    },
    {
     "name": "stdout",
     "output_type": "stream",
     "text": [
      "Average per minute:  1124.6381059751975\n"
     ]
    }
   ],
   "source": [
    "updates_by_second = udpates_df[\"TIME\"].value_counts().sort_index()\n",
    "plt.plot(updates_by_second.values.tolist())\n",
    "plt.xlabel('Seconds Elapsed')\n",
    "plt.ylabel('Log Number of Updates at that timepoint')\n",
    "plt.yscale(\"log\")\n",
    "plt.title('Numbers of updates at each second')\n",
    "plt.show()\n",
    "\n",
    "print(\"Average per minute: \", 60 * updates_by_second.mean())"
   ]
  },
  {
   "cell_type": "markdown",
   "metadata": {},
   "source": [
    "# 2.4\n",
    "The CDF is shown below. The 99% percentile and up account for nearly all of the updates, which implies that 99% of ASs are relatively stable, while 1% announce new paths much more often."
   ]
  },
  {
   "cell_type": "code",
   "execution_count": 27,
   "metadata": {},
   "outputs": [
    {
     "data": {
      "image/png": "[encoded data removed]",
      "text/plain": [
       "<Figure size 432x288 with 1 Axes>"
      ]
     },
     "metadata": {
      "needs_background": "light"
     },
     "output_type": "display_data"
    }
   ],
   "source": [
    "# Number of updates by AS\n",
    "num_updates_per_as = udpates_df[\"FROM\"].apply(lambda x: x.split(' ')[-1][2:]).value_counts()\n",
    "all_asns = pd.Series(word_counts_df.index) # word_counts_df from earlier\n",
    "\n",
    "# Find the number of updates for each AS, set the value to zero if AS not in num_updates_per_as\n",
    "update_counts = dict()\n",
    "for asn in all_asns:\n",
    "  if asn in num_updates_per_as:\n",
    "    update_counts[asn] = num_updates_per_as[asn]\n",
    "  else:\n",
    "    update_counts[asn] = 0\n",
    "\n",
    "update_counts = pd.Series(update_counts).sort_values(ascending=False)\n",
    "percentiles = update_counts.cumsum() / update_counts.sum()\n",
    "percentiles = percentiles.reset_index(drop=True)\n",
    "\n",
    "plt.plot(100 * percentiles.index / len(percentiles), percentiles.values)\n",
    "plt.xlabel('Percentile of AS')\n",
    "plt.ylabel('Percent messages from that percentile and up')\n",
    "plt.xscale(\"log\")\n",
    "plt.title('Numbers of updates each second')\n",
    "plt.show()"
   ]
  }
 ],
 "metadata": {
  "kernelspec": {
   "display_name": "Python 3",
   "language": "python",
   "name": "python3"
  },
  "language_info": {
   "codemirror_mode": {
    "name": "ipython",
    "version": 3
   },
   "file_extension": ".py",
   "mimetype": "text/x-python",
   "name": "python",
   "nbconvert_exporter": "python",
   "pygments_lexer": "ipython3",
   "version": "3.9.12"
  }
 },
 "nbformat": 4,
 "nbformat_minor": 2
}
