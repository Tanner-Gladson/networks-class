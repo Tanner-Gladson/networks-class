{
 "cells": [
  {
   "cell_type": "code",
   "execution_count": 82,
   "metadata": {},
   "outputs": [],
   "source": [
    "import pandas as pd\n",
    "import matplotlib.pyplot as plt"
   ]
  },
  {
   "cell_type": "code",
   "execution_count": 93,
   "metadata": {},
   "outputs": [],
   "source": [
    "\n",
    "netflow_df = pd.read_csv('netflow.csv')\n",
    "split_src_ids = netflow_df[\"Src IP addr\"].apply(lambda x: x.split('.'))\n",
    "split_dst_ids = netflow_df[\"Dst IP addr\"].apply(lambda x: x.split('.'))\n",
    "netflow_df[\"src_ip_prefix\"] = split_src_ids.apply(lambda x: '.'.join(x[0:2]))\n",
    "netflow_df[\"dst_ip_prefix\"] = split_dst_ids.apply(lambda x: '.'.join(x[0:2]))"
   ]
  },
  {
   "cell_type": "code",
   "execution_count": 94,
   "metadata": {},
   "outputs": [
    {
     "data": {
      "image/png": "[encoded data removed]",
      "text/plain": [
       "<Figure size 640x480 with 1 Axes>"
      ]
     },
     "metadata": {},
     "output_type": "display_data"
    }
   ],
   "source": [
    "pdf = netflow_df.groupby(\"Protocol\")['Bytes'].value_counts()\n",
    "\n",
    "udp_cdf = pdf[\"UDP\"].sort_index().cumsum() / pdf[\"UDP\"].sort_index().sum()\n",
    "tcp_cdf = pdf[\"TCP\"].sort_index().cumsum() / pdf[\"TCP\"].sort_index().sum()\n",
    "\n",
    "plt.plot(tcp_cdf.index, tcp_cdf.values)\n",
    "plt.plot(udp_cdf.index, udp_cdf.values)\n",
    "plt.xlabel('Bytes')\n",
    "plt.ylabel('CDF')\n",
    "plt.title('CDF of Records based on Bytes')\n",
    "plt.legend([\"UDP\", \"TCP\"])\n",
    "plt.xscale('log')  # Set x-axis to log scale\n",
    "plt.show()\n"
   ]
  },
  {
   "cell_type": "markdown",
   "metadata": {},
   "source": [
    "# 1.1\n",
    "My first observation is that nearly all packets are less than 1,000 bytes long. The second observation is that UDP packets tend to be smaller, and have no outliers larger than 1,000 bytes. More than half of the packets in each protocol have sizes of less than 100."
   ]
  },
  {
   "cell_type": "code",
   "execution_count": 115,
   "metadata": {},
   "outputs": [
    {
     "name": "stdout",
     "output_type": "stream",
     "text": [
      "Top 10 src prefixes:\n",
      " src_ip_prefix\n",
      "184.105     1775\n",
      "64.125      1852\n",
      "212.83      2042\n",
      "141.212     2143\n",
      "94.23       2205\n",
      "169.45      2494\n",
      "163.53      2981\n",
      "222.186     5269\n",
      "169.54      9424\n",
      "116.211    17019\n",
      "Name: src_ip_prefix, dtype: int64\n",
      "Top 10 src account for 44.80%\n",
      "\n",
      "Top 10 src prefixes:\n",
      " src_ip_prefix\n",
      "163.53     120920\n",
      "5.8        126940\n",
      "222.186    211068\n",
      "169.45     229448\n",
      "42.120     326122\n",
      "128.112    506604\n",
      "140.205    510833\n",
      "116.211    680922\n",
      "169.54     867928\n",
      "212.83     928311\n",
      "Name: Bytes, dtype: int64\n",
      "Top 10 src account for 37.41%\n"
     ]
    }
   ],
   "source": [
    "# Extract the first two octets of the source IP address\n",
    "\n",
    "\n",
    "grouped_flows = netflow_df.groupby('src_ip_prefix')\n",
    "\n",
    "# Group by the source IP prefix and count the number of flows\n",
    "flows_per_src_prefix = grouped_flows['src_ip_prefix'].count()\n",
    "most_common_ten_prefixes = flows_per_src_prefix.sort_values()[-10:]\n",
    "print(f\"Top 10 src prefixes:\\n\", most_common_ten_prefixes)\n",
    "\n",
    "# Get the top ten IP address prefixes and their percentage of all flows\n",
    "percentage_src_flows = (most_common_ten_prefixes.sum() / flows_per_src_prefix.sum()) * 100\n",
    "print(f\"Top 10 src account for {percentage_src_flows:.2f}%\")\n",
    "\n",
    "\n",
    "# Group by percentage of bytes sent\n",
    "bytes_per_prefix = grouped_flows['Bytes'].sum()\n",
    "biggest_ten_prefixes = bytes_per_prefix.sort_values()[-10:]\n",
    "print(f\"\\nTop 10 src prefixes:\\n\", biggest_ten_prefixes)\n",
    "\n",
    "percentage_of_traffic = (biggest_ten_prefixes.sum() / bytes_per_prefix.sum()) * 100\n",
    "print(f\"Top 10 src account for {percentage_of_traffic:.2f}%\")"
   ]
  },
  {
   "cell_type": "markdown",
   "metadata": {},
   "source": [
    "# 1.2 \n",
    "The top 10 src prefixes (as counted by flow) are reported above. They account for 44.8% of all flows. The top 10 src prefixes (as counted by total bytes) are reborted above. These 10 flows account for 37.41% of total byte traffic."
   ]
  },
  {
   "cell_type": "code",
   "execution_count": 116,
   "metadata": {},
   "outputs": [
    {
     "name": "stdout",
     "output_type": "stream",
     "text": [
      "Packets with src_port=23 account for 0.15% of flows\n",
      "Packets with dst_port=23 account for 18.40% of flows\n"
     ]
    }
   ],
   "source": [
    "# Analyze port number 0\n",
    "\n",
    "count_by_src_port = netflow_df.groupby(\"Src port\")[\"Src port\"].count()\n",
    "count_by_dest_port = netflow_df.groupby(\"Dst port\")[\"Dst port\"].count()\n",
    "\n",
    "percent_with_src_23 = 100 * count_by_src_port[23] / count_by_src_port.sum()\n",
    "percent_with_dest_23 = 100 * count_by_dest_port[23] / count_by_dest_port.sum()\n",
    "\n",
    "\n",
    "print(f\"Packets with src_port=23 account for {percent_with_src_23:.2f}% of flows\")\n",
    "print(f\"Packets with dst_port=23 account for {percent_with_dest_23:.2f}% of flows\")"
   ]
  },
  {
   "cell_type": "markdown",
   "metadata": {},
   "source": [
    "# 1.3\n",
    "I chose port 23, which is used for Telnet. It appears as src_port in 0.15% of flows, but dst_port=23 for 18.4% of flows."
   ]
  },
  {
   "cell_type": "code",
   "execution_count": 117,
   "metadata": {},
   "outputs": [
    {
     "name": "stdout",
     "output_type": "stream",
     "text": [
      "Packets with src_ip=128.112.0.0/16 account for 4.20% of bytes\n",
      "Packets with dst_ip=128.112.0.0/16 account for 95.95% of bytes\n",
      "Packets with both src and dest within router account for 0.84% of bytes\n"
     ]
    }
   ],
   "source": [
    "bytes_by_src = netflow_df.groupby('src_ip_prefix')[\"Bytes\"].sum()\n",
    "bytes_by_dst = netflow_df.groupby('dst_ip_prefix')[\"Bytes\"].sum()\n",
    "\n",
    "percent_bytes_from_router = 100 * bytes_by_src[\"128.112\"] / bytes_by_src.sum()\n",
    "print(f\"Packets with src_ip=128.112.0.0/16 account for {percent_bytes_from_router:.2f}% of bytes\")\n",
    "\n",
    "percent_bytes_towards_router = 100 * bytes_by_dst[\"128.112\"] / bytes_by_dst.sum()\n",
    "print(f\"Packets with dst_ip=128.112.0.0/16 account for {percent_bytes_towards_router:.2f}% of bytes\")\n",
    "\n",
    "incoming = netflow_df[netflow_df['dst_ip_prefix'] == \"128.112\"]\n",
    "internal_flows = incoming[incoming['src_ip_prefix'] == \"128.112\"]\n",
    "\n",
    "percent_bytes_within_router = 100 * (internal_flows[\"Bytes\"].sum() / netflow_df[\"Bytes\"].sum())\n",
    "print(f\"Packets with both src and dest within router account for {percent_bytes_within_router:.2f}% of bytes\")"
   ]
  },
  {
   "cell_type": "markdown",
   "metadata": {},
   "source": [
    "# 1.4\n",
    "Packets with src_ip=128.112.0.0/16 account for 4.20% of bytes.\n",
    "Packets with dst_ip=128.112.0.0/16 account for 95.95% of bytes.\n",
    "Packets with both src and dest within router account for 0.84% of bytes.\n",
    "\n",
    "Very little of the traffic is between hosts within the router's group. Traffic is largely in & out of the network. Interestingly, 95% of all bytes are headed into the router's network. More data coming in than leaving."
   ]
  },
  {
   "cell_type": "markdown",
   "metadata": {},
   "source": [
    "# 1.5\n",
    "It does not change my answer to Q1.1. For Q1.2, I expect that the diversity of src IPs would increase. That is, the percentage of traffic accounted for by the top 10 src_ips would be less. For Q1.3, I would expect the telnet traffic in an internet Cafe to be smaller than a university. For Q1.4, I would expect the ratio of incoming/outgoing to be about the same."
   ]
  },
  {
   "cell_type": "markdown",
   "metadata": {},
   "source": []
  },
  {
   "cell_type": "markdown",
   "metadata": {},
   "source": []
  }
 ],
 "metadata": {
  "kernelspec": {
   "display_name": "Python 3",
   "language": "python",
   "name": "python3"
  },
  "language_info": {
   "codemirror_mode": {
    "name": "ipython",
    "version": 3
   },
   "file_extension": ".py",
   "mimetype": "text/x-python",
   "name": "python",
   "nbconvert_exporter": "python",
   "pygments_lexer": "ipython3",
   "version": "3.11.5"
  }
 },
 "nbformat": 4,
 "nbformat_minor": 2
}
